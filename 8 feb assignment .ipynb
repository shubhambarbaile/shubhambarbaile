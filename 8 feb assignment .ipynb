{
 "cells": [
  {
   "cell_type": "code",
   "execution_count": 2,
   "id": "f1fa34ee-dc5f-460b-a8bc-aed5af2653c6",
   "metadata": {},
   "outputs": [],
   "source": [
    "#1\n",
    "#Abstraction is method to hide unnecessary details from the user \n",
    "#Example \n",
    "#The ATM machine is very good example of abstraction you enter the amount and pin you dont need to know what is happening.\"\"\""
   ]
  },
  {
   "cell_type": "code",
   "execution_count": null,
   "id": "0bfeb002-5473-4438-86b3-ebd20a45222a",
   "metadata": {},
   "outputs": [],
   "source": [
    "# ABSTRACTION = IT IS USE TO HIDE THE UNNECESSARY DETAILS FORM THE USER \n",
    "# ENCAPSULATION = ENCAPASULATION ALSO USE FOR HIDING DATA FROM THE USER BUT IT WRRAP ALL THE DATA IN SINGLE UNIT.AT\n",
    "\n",
    "\n",
    "# EX ABSTRACTION = ATM MACHINE, A CAR  ARE SOME OF THE EXAMPLE OF ABSTRACTION \n",
    "#EX ENCAPSULATION = A CLASS OF STUDENT ARE THE EXAMPLE OF THE ENCAPSULTATION AND THE CONTAINERS WITH THE GOODS INSIDE IT ALSO WORK AS A ENCAPSULATION."
   ]
  },
  {
   "cell_type": "code",
   "execution_count": 1,
   "id": "30c3a529-ced1-47c8-b050-3de6e8cfa042",
   "metadata": {},
   "outputs": [],
   "source": [
    "# abc module in pyhon is abstract base class \n",
    "# it he main goal of the abstract base class is to provide a standardized way to test whether an object adheres to a given  \n",
    "#specification. It can also prevent any attempt to instantiate a subclass that doesn’t override a particular method in the \n",
    "#superclass. And finally, using an abstract class, a class can derive identity from another class without any object \n",
    "#inheritance."
   ]
  },
  {
   "cell_type": "code",
   "execution_count": 2,
   "id": "3d646ccb-0add-4004-a96a-f2ec192e0de2",
   "metadata": {},
   "outputs": [],
   "source": [
    "# data abstraction in python can be acheived by using abstract class and methods in the programme."
   ]
  },
  {
   "cell_type": "code",
   "execution_count": null,
   "id": "9b8ec796-4ad4-4243-baff-cd8ef2990edf",
   "metadata": {},
   "outputs": [],
   "source": [
    "# NO \n",
    "# We can't create instance of abstract class they can be used as a subclass. we can not consider them as a class because they  \n",
    "#don't have any complete implementation."
   ]
  }
 ],
 "metadata": {
  "kernelspec": {
   "display_name": "Python 3 (ipykernel)",
   "language": "python",
   "name": "python3"
  },
  "language_info": {
   "codemirror_mode": {
    "name": "ipython",
    "version": 3
   },
   "file_extension": ".py",
   "mimetype": "text/x-python",
   "name": "python",
   "nbconvert_exporter": "python",
   "pygments_lexer": "ipython3",
   "version": "3.10.8"
  }
 },
 "nbformat": 4,
 "nbformat_minor": 5
}
